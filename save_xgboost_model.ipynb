{
 "cells": [
  {
   "cell_type": "code",
   "execution_count": 1,
   "metadata": {},
   "outputs": [],
   "source": [
    "import pandas as pd"
   ]
  },
  {
   "cell_type": "code",
   "execution_count": 20,
   "metadata": {},
   "outputs": [],
   "source": [
    "cols = ['diabet','s_test','f_test','l_test','a_test','b_test','y_test']\n",
    "diabetes_train = pd.read_excel('Data.xlsx',sheet_name=\"5464 kisi\",names=cols)"
   ]
  },
  {
   "cell_type": "code",
   "execution_count": 36,
   "metadata": {},
   "outputs": [
    {
     "data": {
      "text/html": [
       "<div>\n",
       "<style scoped>\n",
       "    .dataframe tbody tr th:only-of-type {\n",
       "        vertical-align: middle;\n",
       "    }\n",
       "\n",
       "    .dataframe tbody tr th {\n",
       "        vertical-align: top;\n",
       "    }\n",
       "\n",
       "    .dataframe thead th {\n",
       "        text-align: right;\n",
       "    }\n",
       "</style>\n",
       "<table border=\"1\" class=\"dataframe\">\n",
       "  <thead>\n",
       "    <tr style=\"text-align: right;\">\n",
       "      <th></th>\n",
       "      <th>diabet</th>\n",
       "      <th>s_test</th>\n",
       "      <th>f_test</th>\n",
       "      <th>l_test</th>\n",
       "      <th>a_test</th>\n",
       "      <th>b_test</th>\n",
       "      <th>y_test</th>\n",
       "    </tr>\n",
       "  </thead>\n",
       "  <tbody>\n",
       "    <tr>\n",
       "      <th>0</th>\n",
       "      <td>0</td>\n",
       "      <td>NaN</td>\n",
       "      <td>NaN</td>\n",
       "      <td>0.333333</td>\n",
       "      <td>0.01</td>\n",
       "      <td>NaN</td>\n",
       "      <td>50.0</td>\n",
       "    </tr>\n",
       "    <tr>\n",
       "      <th>1</th>\n",
       "      <td>0</td>\n",
       "      <td>NaN</td>\n",
       "      <td>NaN</td>\n",
       "      <td>0.752475</td>\n",
       "      <td>0.01</td>\n",
       "      <td>NaN</td>\n",
       "      <td>51.0</td>\n",
       "    </tr>\n",
       "    <tr>\n",
       "      <th>2</th>\n",
       "      <td>0</td>\n",
       "      <td>NaN</td>\n",
       "      <td>NaN</td>\n",
       "      <td>0.850962</td>\n",
       "      <td>0.01</td>\n",
       "      <td>23.3</td>\n",
       "      <td>51.0</td>\n",
       "    </tr>\n",
       "    <tr>\n",
       "      <th>3</th>\n",
       "      <td>0</td>\n",
       "      <td>NaN</td>\n",
       "      <td>NaN</td>\n",
       "      <td>0.900990</td>\n",
       "      <td>0.01</td>\n",
       "      <td>NaN</td>\n",
       "      <td>53.0</td>\n",
       "    </tr>\n",
       "    <tr>\n",
       "      <th>4</th>\n",
       "      <td>0</td>\n",
       "      <td>NaN</td>\n",
       "      <td>NaN</td>\n",
       "      <td>0.269231</td>\n",
       "      <td>0.01</td>\n",
       "      <td>24.6</td>\n",
       "      <td>54.0</td>\n",
       "    </tr>\n",
       "    <tr>\n",
       "      <th>5</th>\n",
       "      <td>0</td>\n",
       "      <td>74.8</td>\n",
       "      <td>1.7</td>\n",
       "      <td>2.601942</td>\n",
       "      <td>0.02</td>\n",
       "      <td>NaN</td>\n",
       "      <td>46.0</td>\n",
       "    </tr>\n",
       "    <tr>\n",
       "      <th>6</th>\n",
       "      <td>0</td>\n",
       "      <td>NaN</td>\n",
       "      <td>NaN</td>\n",
       "      <td>1.527157</td>\n",
       "      <td>0.02</td>\n",
       "      <td>NaN</td>\n",
       "      <td>46.0</td>\n",
       "    </tr>\n",
       "    <tr>\n",
       "      <th>7</th>\n",
       "      <td>0</td>\n",
       "      <td>NaN</td>\n",
       "      <td>NaN</td>\n",
       "      <td>0.679739</td>\n",
       "      <td>0.02</td>\n",
       "      <td>NaN</td>\n",
       "      <td>49.0</td>\n",
       "    </tr>\n",
       "    <tr>\n",
       "      <th>8</th>\n",
       "      <td>0</td>\n",
       "      <td>NaN</td>\n",
       "      <td>NaN</td>\n",
       "      <td>1.779141</td>\n",
       "      <td>0.02</td>\n",
       "      <td>NaN</td>\n",
       "      <td>49.0</td>\n",
       "    </tr>\n",
       "    <tr>\n",
       "      <th>9</th>\n",
       "      <td>0</td>\n",
       "      <td>NaN</td>\n",
       "      <td>NaN</td>\n",
       "      <td>2.680000</td>\n",
       "      <td>0.02</td>\n",
       "      <td>NaN</td>\n",
       "      <td>53.0</td>\n",
       "    </tr>\n",
       "  </tbody>\n",
       "</table>\n",
       "</div>"
      ],
      "text/plain": [
       "   diabet  s_test  f_test    l_test  a_test  b_test  y_test\n",
       "0       0     NaN     NaN  0.333333    0.01     NaN    50.0\n",
       "1       0     NaN     NaN  0.752475    0.01     NaN    51.0\n",
       "2       0     NaN     NaN  0.850962    0.01    23.3    51.0\n",
       "3       0     NaN     NaN  0.900990    0.01     NaN    53.0\n",
       "4       0     NaN     NaN  0.269231    0.01    24.6    54.0\n",
       "5       0    74.8     1.7  2.601942    0.02     NaN    46.0\n",
       "6       0     NaN     NaN  1.527157    0.02     NaN    46.0\n",
       "7       0     NaN     NaN  0.679739    0.02     NaN    49.0\n",
       "8       0     NaN     NaN  1.779141    0.02     NaN    49.0\n",
       "9       0     NaN     NaN  2.680000    0.02     NaN    53.0"
      ]
     },
     "execution_count": 36,
     "metadata": {},
     "output_type": "execute_result"
    }
   ],
   "source": [
    "diabetes_train.head(10)"
   ]
  },
  {
   "cell_type": "code",
   "execution_count": 22,
   "metadata": {
    "scrolled": false
   },
   "outputs": [],
   "source": [
    "from fancyimpute import KNN"
   ]
  },
  {
   "cell_type": "code",
   "execution_count": 23,
   "metadata": {
    "scrolled": true
   },
   "outputs": [
    {
     "name": "stdout",
     "output_type": "stream",
     "text": [
      "Imputing row 1/5463 with 3 missing, elapsed time: 6.871\n",
      "Imputing row 101/5463 with 2 missing, elapsed time: 6.885\n",
      "Imputing row 201/5463 with 2 missing, elapsed time: 6.910\n",
      "Imputing row 301/5463 with 3 missing, elapsed time: 6.934\n",
      "Imputing row 401/5463 with 3 missing, elapsed time: 6.950\n",
      "Imputing row 501/5463 with 1 missing, elapsed time: 6.968\n",
      "Imputing row 601/5463 with 1 missing, elapsed time: 6.997\n",
      "Imputing row 701/5463 with 2 missing, elapsed time: 7.024\n",
      "Imputing row 801/5463 with 0 missing, elapsed time: 7.039\n",
      "Imputing row 901/5463 with 0 missing, elapsed time: 7.054\n",
      "Imputing row 1001/5463 with 2 missing, elapsed time: 7.077\n",
      "Imputing row 1101/5463 with 2 missing, elapsed time: 7.102\n",
      "Imputing row 1201/5463 with 0 missing, elapsed time: 7.117\n",
      "Imputing row 1301/5463 with 3 missing, elapsed time: 7.130\n",
      "Imputing row 1401/5463 with 2 missing, elapsed time: 7.143\n",
      "Imputing row 1501/5463 with 0 missing, elapsed time: 7.153\n",
      "Imputing row 1601/5463 with 2 missing, elapsed time: 7.166\n",
      "Imputing row 1701/5463 with 2 missing, elapsed time: 7.179\n",
      "Imputing row 1801/5463 with 2 missing, elapsed time: 7.191\n",
      "Imputing row 1901/5463 with 3 missing, elapsed time: 7.208\n",
      "Imputing row 2001/5463 with 0 missing, elapsed time: 7.223\n",
      "Imputing row 2101/5463 with 0 missing, elapsed time: 7.235\n",
      "Imputing row 2201/5463 with 2 missing, elapsed time: 7.256\n",
      "Imputing row 2301/5463 with 2 missing, elapsed time: 7.272\n",
      "Imputing row 2401/5463 with 2 missing, elapsed time: 7.288\n",
      "Imputing row 2501/5463 with 3 missing, elapsed time: 7.300\n",
      "Imputing row 2601/5463 with 1 missing, elapsed time: 7.313\n",
      "Imputing row 2701/5463 with 0 missing, elapsed time: 7.323\n",
      "Imputing row 2801/5463 with 2 missing, elapsed time: 7.333\n",
      "Imputing row 2901/5463 with 1 missing, elapsed time: 7.345\n",
      "Imputing row 3001/5463 with 2 missing, elapsed time: 7.356\n",
      "Imputing row 3101/5463 with 2 missing, elapsed time: 7.367\n",
      "Imputing row 3201/5463 with 2 missing, elapsed time: 7.376\n",
      "Imputing row 3301/5463 with 2 missing, elapsed time: 7.387\n",
      "Imputing row 3401/5463 with 0 missing, elapsed time: 7.398\n",
      "Imputing row 3501/5463 with 2 missing, elapsed time: 7.408\n",
      "Imputing row 3601/5463 with 0 missing, elapsed time: 7.417\n",
      "Imputing row 3701/5463 with 0 missing, elapsed time: 7.427\n",
      "Imputing row 3801/5463 with 2 missing, elapsed time: 7.435\n",
      "Imputing row 3901/5463 with 1 missing, elapsed time: 7.446\n",
      "Imputing row 4001/5463 with 1 missing, elapsed time: 7.455\n",
      "Imputing row 4101/5463 with 3 missing, elapsed time: 7.464\n",
      "Imputing row 4201/5463 with 0 missing, elapsed time: 7.473\n",
      "Imputing row 4301/5463 with 0 missing, elapsed time: 7.483\n",
      "Imputing row 4401/5463 with 2 missing, elapsed time: 7.491\n",
      "Imputing row 4501/5463 with 1 missing, elapsed time: 7.499\n",
      "Imputing row 4601/5463 with 0 missing, elapsed time: 7.510\n",
      "Imputing row 4701/5463 with 0 missing, elapsed time: 7.521\n",
      "Imputing row 4801/5463 with 3 missing, elapsed time: 7.536\n",
      "Imputing row 4901/5463 with 3 missing, elapsed time: 7.550\n",
      "Imputing row 5001/5463 with 3 missing, elapsed time: 7.565\n",
      "Imputing row 5101/5463 with 3 missing, elapsed time: 7.580\n",
      "Imputing row 5201/5463 with 0 missing, elapsed time: 7.594\n",
      "Imputing row 5301/5463 with 1 missing, elapsed time: 7.609\n",
      "Imputing row 5401/5463 with 0 missing, elapsed time: 7.631\n"
     ]
    }
   ],
   "source": [
    "diabets_filled_knn = KNN(k=3).fit_transform(diabetes_train)"
   ]
  },
  {
   "cell_type": "code",
   "execution_count": 24,
   "metadata": {},
   "outputs": [],
   "source": [
    "diabets_full = pd.DataFrame(diabets_filled_knn, columns=['diabet','s_test','f_test','l_test','a_test','b_test','y_test'])"
   ]
  },
  {
   "cell_type": "code",
   "execution_count": 25,
   "metadata": {},
   "outputs": [
    {
     "data": {
      "text/plain": [
       "diabet    0\n",
       "s_test    0\n",
       "f_test    0\n",
       "l_test    0\n",
       "a_test    0\n",
       "b_test    0\n",
       "y_test    0\n",
       "dtype: int64"
      ]
     },
     "execution_count": 25,
     "metadata": {},
     "output_type": "execute_result"
    }
   ],
   "source": [
    "diabets_full.isna().sum()"
   ]
  },
  {
   "cell_type": "code",
   "execution_count": 26,
   "metadata": {},
   "outputs": [],
   "source": [
    "X = diabets_full[['s_test','f_test','l_test','a_test','b_test','y_test']]\n",
    "y = diabets_full['diabet']"
   ]
  },
  {
   "cell_type": "code",
   "execution_count": 27,
   "metadata": {},
   "outputs": [],
   "source": [
    "from sklearn.model_selection import train_test_split\n",
    "X_train, X_test, y_train, y_test = train_test_split(X, y, test_size=0.3, random_state=0)"
   ]
  },
  {
   "cell_type": "code",
   "execution_count": 28,
   "metadata": {},
   "outputs": [],
   "source": [
    "import xgboost as xgb"
   ]
  },
  {
   "cell_type": "code",
   "execution_count": 29,
   "metadata": {},
   "outputs": [],
   "source": [
    "model_xgb = xgb.XGBClassifier(objective=\"binary:logistic\")"
   ]
  },
  {
   "cell_type": "code",
   "execution_count": 30,
   "metadata": {},
   "outputs": [
    {
     "data": {
      "text/plain": [
       "XGBClassifier(base_score=0.5, booster='gbtree', colsample_bylevel=1,\n",
       "              colsample_bynode=1, colsample_bytree=1, gamma=0,\n",
       "              learning_rate=0.1, max_delta_step=0, max_depth=3,\n",
       "              min_child_weight=1, missing=None, n_estimators=100, n_jobs=1,\n",
       "              nthread=None, objective='binary:logistic', random_state=0,\n",
       "              reg_alpha=0, reg_lambda=1, scale_pos_weight=1, seed=None,\n",
       "              silent=None, subsample=1, verbosity=1)"
      ]
     },
     "execution_count": 30,
     "metadata": {},
     "output_type": "execute_result"
    }
   ],
   "source": [
    "model_xgb.fit(X_train,y_train)"
   ]
  },
  {
   "cell_type": "code",
   "execution_count": 31,
   "metadata": {},
   "outputs": [],
   "source": [
    "y_pred_xgb=model_xgb.predict(X_test)"
   ]
  },
  {
   "cell_type": "code",
   "execution_count": 32,
   "metadata": {},
   "outputs": [],
   "source": [
    "from sklearn.metrics import accuracy_score,cohen_kappa_score,confusion_matrix,classification_report"
   ]
  },
  {
   "cell_type": "code",
   "execution_count": 33,
   "metadata": {
    "scrolled": true
   },
   "outputs": [
    {
     "data": {
      "text/plain": [
       "0.9853569249542404"
      ]
     },
     "execution_count": 33,
     "metadata": {},
     "output_type": "execute_result"
    }
   ],
   "source": [
    "accuracy_score(y_pred_xgb,y_test)"
   ]
  },
  {
   "cell_type": "code",
   "execution_count": 34,
   "metadata": {},
   "outputs": [
    {
     "name": "stdout",
     "output_type": "stream",
     "text": [
      "              precision    recall  f1-score   support\n",
      "\n",
      "           1       0.98      0.95      0.96       335\n",
      "           0       0.99      0.99      0.99      1304\n",
      "\n",
      "    accuracy                           0.99      1639\n",
      "   macro avg       0.98      0.97      0.98      1639\n",
      "weighted avg       0.99      0.99      0.99      1639\n",
      "\n"
     ]
    }
   ],
   "source": [
    "print(classification_report(y_test, y_pred_xgb, labels=[1, 0]))"
   ]
  },
  {
   "cell_type": "code",
   "execution_count": 35,
   "metadata": {},
   "outputs": [],
   "source": [
    "import pickle\n",
    "with open('diabet_xgboost.pkl', 'wb') as file:\n",
    "    pickle.dump(model_xgb, file)"
   ]
  },
  {
   "cell_type": "markdown",
   "metadata": {},
   "source": [
    "# tahmin"
   ]
  },
  {
   "cell_type": "code",
   "execution_count": 3,
   "metadata": {},
   "outputs": [],
   "source": [
    "import pickle\n",
    "import pandas as pd"
   ]
  },
  {
   "cell_type": "code",
   "execution_count": 4,
   "metadata": {},
   "outputs": [],
   "source": [
    "with open(f'diabet_xgboost.pkl', 'rb') as f:\n",
    "    model = pickle.load(f)"
   ]
  },
  {
   "cell_type": "code",
   "execution_count": 5,
   "metadata": {},
   "outputs": [],
   "source": [
    "s_test = 34\n",
    "f_test = 2\n",
    "l_test = 226\n",
    "a_test = 7\n",
    "b_test = 3.4\n",
    "y_test = 9"
   ]
  },
  {
   "cell_type": "code",
   "execution_count": 6,
   "metadata": {},
   "outputs": [],
   "source": [
    " input_variables = pd.DataFrame([[s_test,f_test,l_test,a_test,b_test,y_test]],\n",
    "                                       columns=['s_test', 'f_test', 'l_test','a_test','b_test','y_test'],\n",
    "                                       dtype=float,\n",
    "                                       index=['input'])"
   ]
  },
  {
   "cell_type": "code",
   "execution_count": 7,
   "metadata": {},
   "outputs": [],
   "source": [
    "prediction = model.predict(input_variables)[0]"
   ]
  },
  {
   "cell_type": "code",
   "execution_count": 8,
   "metadata": {},
   "outputs": [
    {
     "data": {
      "text/plain": [
       "1.0"
      ]
     },
     "execution_count": 8,
     "metadata": {},
     "output_type": "execute_result"
    }
   ],
   "source": [
    "prediction"
   ]
  },
  {
   "cell_type": "code",
   "execution_count": 9,
   "metadata": {},
   "outputs": [],
   "source": [
    "original_input={'s_test':s_test,\n",
    "                                                     'f_test':f_test,\n",
    "                                                     'l_test':l_test,\n",
    "                                                     'a_test':a_test,\n",
    "                                                     'b_test':b_test,\n",
    "                                                     'y_test':y_test}"
   ]
  },
  {
   "cell_type": "code",
   "execution_count": 10,
   "metadata": {},
   "outputs": [
    {
     "name": "stdout",
     "output_type": "stream",
     "text": [
      "s_test 34\n",
      "f_test 2\n",
      "l_test 226\n",
      "a_test 7\n",
      "b_test 3.4\n",
      "y_test 9\n"
     ]
    }
   ],
   "source": [
    "for variable, value in original_input.items():\n",
    "    print(variable,value)\n",
    "    "
   ]
  },
  {
   "cell_type": "code",
   "execution_count": null,
   "metadata": {},
   "outputs": [],
   "source": []
  },
  {
   "cell_type": "code",
   "execution_count": null,
   "metadata": {},
   "outputs": [],
   "source": []
  },
  {
   "cell_type": "markdown",
   "metadata": {},
   "source": [
    "# Bundan sonraki calisma diabet dosyasi ile ayni, bundan oncekiler yeni calisma"
   ]
  },
  {
   "cell_type": "code",
   "execution_count": null,
   "metadata": {},
   "outputs": [],
   "source": [
    "from sklearn.externals import joblib\n",
    "joblib.dump(model_xgb, 'model_diabet.pkl')"
   ]
  },
  {
   "cell_type": "code",
   "execution_count": null,
   "metadata": {},
   "outputs": [],
   "source": [
    "model_xgb._Booster.save_model('model.bst') "
   ]
  },
  {
   "cell_type": "markdown",
   "metadata": {},
   "source": [
    "# DMatrix ile tahmin"
   ]
  },
  {
   "cell_type": "code",
   "execution_count": null,
   "metadata": {},
   "outputs": [],
   "source": [
    "import xgboost as xgb"
   ]
  },
  {
   "cell_type": "code",
   "execution_count": null,
   "metadata": {},
   "outputs": [],
   "source": [
    "bst = xgb.Booster({'nthread': 4})  # init model"
   ]
  },
  {
   "cell_type": "code",
   "execution_count": null,
   "metadata": {},
   "outputs": [],
   "source": [
    "bst.load_model('model.bst')"
   ]
  },
  {
   "cell_type": "code",
   "execution_count": null,
   "metadata": {},
   "outputs": [],
   "source": [
    "data = [38,3.6,0.35,2,23,50]"
   ]
  },
  {
   "cell_type": "code",
   "execution_count": null,
   "metadata": {},
   "outputs": [],
   "source": [
    "dtest = xgb.DMatrix(data)"
   ]
  },
  {
   "cell_type": "code",
   "execution_count": null,
   "metadata": {},
   "outputs": [],
   "source": [
    "bst.predict(dtest)"
   ]
  },
  {
   "cell_type": "markdown",
   "metadata": {},
   "source": [
    "# Pickle"
   ]
  },
  {
   "cell_type": "code",
   "execution_count": null,
   "metadata": {},
   "outputs": [],
   "source": [
    "import pickle"
   ]
  },
  {
   "cell_type": "code",
   "execution_count": null,
   "metadata": {},
   "outputs": [],
   "source": [
    "pickle.dump(model_xgb, open('model_xgb.pkl','wb'))"
   ]
  },
  {
   "cell_type": "code",
   "execution_count": null,
   "metadata": {},
   "outputs": [],
   "source": [
    "list(X.columns)"
   ]
  },
  {
   "cell_type": "code",
   "execution_count": null,
   "metadata": {},
   "outputs": [],
   "source": [
    "# Save column names to persist the features in deployment phase\n",
    "pickle.dump(list(X.columns), open('model_features.pkl','wb'))"
   ]
  },
  {
   "cell_type": "code",
   "execution_count": null,
   "metadata": {},
   "outputs": [],
   "source": []
  }
 ],
 "metadata": {
  "kernelspec": {
   "display_name": "Python 3",
   "language": "python",
   "name": "python3"
  },
  "language_info": {
   "codemirror_mode": {
    "name": "ipython",
    "version": 3
   },
   "file_extension": ".py",
   "mimetype": "text/x-python",
   "name": "python",
   "nbconvert_exporter": "python",
   "pygments_lexer": "ipython3",
   "version": "3.7.3"
  }
 },
 "nbformat": 4,
 "nbformat_minor": 2
}
